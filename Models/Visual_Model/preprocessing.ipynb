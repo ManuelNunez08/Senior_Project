{
 "cells": [
  {
   "cell_type": "markdown",
   "metadata": {},
   "source": [
    "# Visual Model Preprocessing "
   ]
  },
  {
   "cell_type": "code",
   "execution_count": 2,
   "metadata": {},
   "outputs": [],
   "source": [
    "import pandas as pd\n",
    "import os\n",
    "from sklearn.utils import resample"
   ]
  },
  {
   "cell_type": "code",
   "execution_count": 3,
   "metadata": {},
   "outputs": [],
   "source": [
    "images = pd.read_csv(\"data_csv/fer.csv\")"
   ]
  },
  {
   "cell_type": "markdown",
   "metadata": {},
   "source": [
    "Below we print the number of instances for each class "
   ]
  },
  {
   "cell_type": "code",
   "execution_count": 4,
   "metadata": {},
   "outputs": [
    {
     "name": "stdout",
     "output_type": "stream",
     "text": [
      "emotion\n",
      "3    8989\n",
      "6    6198\n",
      "4    6077\n",
      "2    5121\n",
      "0    4953\n",
      "5    4002\n",
      "1     547\n",
      "Name: count, dtype: int64\n"
     ]
    }
   ],
   "source": [
    "# Get the count of each label\n",
    "label_counts = images['emotion'].value_counts()\n",
    "\n",
    "# Display the count of each label\n",
    "print(label_counts)"
   ]
  },
  {
   "cell_type": "markdown",
   "metadata": {},
   "source": [
    "The structure of our data is ouputted below "
   ]
  },
  {
   "cell_type": "code",
   "execution_count": 5,
   "metadata": {},
   "outputs": [
    {
     "data": {
      "text/plain": [
       "Index(['emotion', 'pixels', 'Usage'], dtype='object')"
      ]
     },
     "execution_count": 5,
     "metadata": {},
     "output_type": "execute_result"
    }
   ],
   "source": [
    "images.shape\n",
    "images.columns"
   ]
  },
  {
   "cell_type": "markdown",
   "metadata": {},
   "source": [
    "Step 1: Identify the class with the highest frequency (majority class) and the classes with lower frequencies (minority classes)"
   ]
  },
  {
   "cell_type": "code",
   "execution_count": 6,
   "metadata": {},
   "outputs": [
    {
     "name": "stdout",
     "output_type": "stream",
     "text": [
      "3\n",
      "[6, 4, 2, 0, 5, 1]\n"
     ]
    }
   ],
   "source": [
    "label_counts = images['emotion'].value_counts()\n",
    "majority_class = label_counts.idxmax()\n",
    "minority_classes = label_counts[label_counts.index != majority_class].index.tolist()\n",
    "\n",
    "print(majority_class)\n",
    "print(minority_classes)"
   ]
  },
  {
   "cell_type": "markdown",
   "metadata": {},
   "source": [
    "Step 2: Calculate the count of the majority class"
   ]
  },
  {
   "cell_type": "code",
   "execution_count": 7,
   "metadata": {},
   "outputs": [
    {
     "name": "stdout",
     "output_type": "stream",
     "text": [
      "8989\n"
     ]
    }
   ],
   "source": [
    "majority_count = label_counts[majority_class]\n",
    "print(majority_count)"
   ]
  },
  {
   "cell_type": "markdown",
   "metadata": {},
   "source": [
    "Step 3: Upsample the minority classes"
   ]
  },
  {
   "cell_type": "code",
   "execution_count": 8,
   "metadata": {},
   "outputs": [],
   "source": [
    "balanced_df = pd.DataFrame(columns=images.columns)\n",
    "for label in minority_classes:\n",
    "    # Select rows with the current minority class\n",
    "    minority_df = images[images['emotion'] == label]\n",
    "    \n",
    "    # Upsample the minority class to match the count of the majority class\n",
    "    minority_df_upsampled = resample(\n",
    "        minority_df,\n",
    "        replace=True,  # sample with replacement to duplicate samples\n",
    "        n_samples=majority_count,  # match majority class count\n",
    "        random_state=42  # for reproducibility\n",
    "    )\n",
    "    \n",
    "    # Concatenate the upsampled minority class and the majority class\n",
    "    balanced_df = pd.concat([balanced_df, minority_df_upsampled])\n",
    "\n",
    "# Include the majority class without resampling\n",
    "balanced_df = pd.concat([balanced_df, images[images['emotion'] == majority_class]])\n",
    "\n",
    "# Step 4: Shuffle the DataFrame to mix the classes\n",
    "balanced_df = balanced_df.sample(frac=1, random_state=42).reset_index(drop=True)"
   ]
  },
  {
   "cell_type": "markdown",
   "metadata": {},
   "source": [
    "Below we check whether we succesfully upsampled minority classes "
   ]
  },
  {
   "cell_type": "code",
   "execution_count": 9,
   "metadata": {},
   "outputs": [
    {
     "name": "stdout",
     "output_type": "stream",
     "text": [
      "emotion\n",
      "2    8989\n",
      "3    8989\n",
      "4    8989\n",
      "0    8989\n",
      "5    8989\n",
      "6    8989\n",
      "1    8989\n",
      "Name: count, dtype: int64\n"
     ]
    }
   ],
   "source": [
    "# Get the count of each label\n",
    "label_counts = balanced_df['emotion'].value_counts()\n",
    "# Display the count of each label\n",
    "print(label_counts)"
   ]
  },
  {
   "cell_type": "markdown",
   "metadata": {},
   "source": [
    "We now divide the data into training, validation, and testing datasets "
   ]
  },
  {
   "cell_type": "code",
   "execution_count": 10,
   "metadata": {},
   "outputs": [
    {
     "name": "stdout",
     "output_type": "stream",
     "text": [
      "(7177, 3)\n",
      "(25120, 3)\n",
      "(3590, 3)\n"
     ]
    }
   ],
   "source": [
    "# Calculate the sizes for each subset\n",
    "total_size = len(images)\n",
    "first_subset_size = int(total_size * 0.2)\n",
    "second_subset_size = int(total_size * 0.7)\n",
    "\n",
    "# Split the DataFrame into three non-overlapping subsets\n",
    "test_df = images.iloc[:first_subset_size]\n",
    "train_df = images.iloc[first_subset_size:first_subset_size + second_subset_size]\n",
    "val_df = images.iloc[first_subset_size + second_subset_size:]\n",
    "\n",
    "print(test_df.shape)\n",
    "print(train_df.shape)\n",
    "print(val_df.shape)\n"
   ]
  },
  {
   "cell_type": "markdown",
   "metadata": {},
   "source": [
    "Save the data for model assembly"
   ]
  },
  {
   "cell_type": "code",
   "execution_count": 11,
   "metadata": {},
   "outputs": [],
   "source": [
    "train_df.to_csv('data_csv/train.csv')\n",
    "test_df.to_csv('data_csv/test.csv')\n",
    "val_df.to_csv('data_csv/val.csv')"
   ]
  }
 ],
 "metadata": {
  "kernelspec": {
   "display_name": "Python 3",
   "language": "python",
   "name": "python3"
  },
  "language_info": {
   "codemirror_mode": {
    "name": "ipython",
    "version": 3
   },
   "file_extension": ".py",
   "mimetype": "text/x-python",
   "name": "python",
   "nbconvert_exporter": "python",
   "pygments_lexer": "ipython3",
   "version": "3.9.13"
  }
 },
 "nbformat": 4,
 "nbformat_minor": 2
}
